{
 "cells": [
  {
   "cell_type": "markdown",
   "id": "22d78a26",
   "metadata": {},
   "source": [
    "# Data Wrangling Section"
   ]
  },
  {
   "cell_type": "code",
   "execution_count": 1,
   "id": "31d53ea1",
   "metadata": {
    "scrolled": true
   },
   "outputs": [
    {
     "name": "stdout",
     "output_type": "stream",
     "text": [
      "done\n"
     ]
    }
   ],
   "source": [
    "import pandas as pd\n",
    "import matplotlib as plt\n",
    "import numpy as np\n",
    "print('done')"
   ]
  },
  {
   "cell_type": "markdown",
   "id": "765fe69c",
   "metadata": {},
   "source": [
    "First, I will merge all the weekly data into one dataframe."
   ]
  },
  {
   "cell_type": "code",
   "execution_count": 2,
   "id": "3c543a80",
   "metadata": {
    "scrolled": true
   },
   "outputs": [
    {
     "name": "stdout",
     "output_type": "stream",
     "text": [
      "done\n"
     ]
    }
   ],
   "source": [
    "df_w1 = pd.read_csv('Data/week1.csv')\n",
    "df_w2 = pd.read_csv('Data/week2.csv')\n",
    "df_w3 = pd.read_csv('Data/week3.csv')\n",
    "df_w4 = pd.read_csv('Data/week4.csv')\n",
    "df_w5 = pd.read_csv('Data/week5.csv')\n",
    "df_w6 = pd.read_csv('Data/week6.csv')\n",
    "df_w7 = pd.read_csv('Data/week7.csv')\n",
    "df_w8 = pd.read_csv('Data/week8.csv')\n",
    "print('done')"
   ]
  },
  {
   "cell_type": "code",
   "execution_count": 3,
   "id": "92376c5c",
   "metadata": {
    "scrolled": false
   },
   "outputs": [
    {
     "name": "stdout",
     "output_type": "stream",
     "text": [
      "Weekly DF Shape:  (8314178, 16)\n",
      "Count of rows:  8314178\n"
     ]
    }
   ],
   "source": [
    "df_weekly = pd.concat([df_w1,df_w2, df_w3, df_w4, df_w5, df_w6, df_w7, df_w8], axis=0)\n",
    "rows = df_w1.shape[0]+ df_w2.shape[0] + df_w3.shape[0] + df_w4.shape[0] + df_w5.shape[0] + df_w6.shape[0] + df_w7.shape[0] + df_w8.shape[0]\n",
    "print('Weekly DF Shape: ', df_weekly.shape)\n",
    "print('Count of rows: ', rows)"
   ]
  },
  {
   "cell_type": "markdown",
   "id": "86cef48c",
   "metadata": {},
   "source": [
    "I've merged all the weekly play by play game data and I've confirmed the shape of the dataframe is accurate. Now, I need to add data to the weekly dataframe.\n",
    "\n",
    "Since my goal is to estimate the expected receving yards on a play, I need to know which players are eligible to receive the ball. Thankfully, the pffScoutingData dataset tracks this stat with the 'pff_role' column . I will use the 'nflId', 'gameId' and 'playid' to merge the 2 dataframes. I will drop the rest of the columns that I do not need to save memory."
   ]
  },
  {
   "cell_type": "code",
   "execution_count": 4,
   "id": "9ecf0769",
   "metadata": {},
   "outputs": [
    {
     "name": "stdout",
     "output_type": "stream",
     "text": [
      "done\n"
     ]
    }
   ],
   "source": [
    "df_pff = pd.read_csv('Data/pffScoutingData.csv')\n",
    "print('done')"
   ]
  },
  {
   "cell_type": "code",
   "execution_count": 5,
   "id": "a1a807fb",
   "metadata": {
    "scrolled": true
   },
   "outputs": [
    {
     "data": {
      "text/plain": [
       "Index(['gameId', 'playId', 'nflId', 'pff_role', 'pff_positionLinedUp'], dtype='object')"
      ]
     },
     "execution_count": 5,
     "metadata": {},
     "output_type": "execute_result"
    }
   ],
   "source": [
    "df_pff.drop(['pff_hit', 'pff_hurry', 'pff_sack', 'pff_beatenByDefender', 'pff_hitAllowed', 'pff_hurryAllowed', 'pff_sackAllowed', 'pff_nflIdBlockedPlayer', 'pff_blockType', 'pff_backFieldBlock'], inplace=True, axis=1)\n",
    "df_pff.columns"
   ]
  },
  {
   "cell_type": "markdown",
   "id": "ce8c2e5e",
   "metadata": {},
   "source": [
    "In the play by play tracking data, the football is tracked as NaN and since the pandas merge method will drop NaN values, I will create two separate dataframes one with the football tracking time and the other without the football tracking times. I will merge the pff dataframe with the non-football dataframe and then use the concat function to put the data back in to main dataframe."
   ]
  },
  {
   "cell_type": "code",
   "execution_count": 6,
   "id": "5aa3606b",
   "metadata": {},
   "outputs": [],
   "source": [
    "df_football = df_weekly[df_weekly['team'] == 'football']"
   ]
  },
  {
   "cell_type": "code",
   "execution_count": 7,
   "id": "d22d98a6",
   "metadata": {
    "scrolled": true
   },
   "outputs": [
    {
     "data": {
      "text/plain": [
       "(7952692, 18)"
      ]
     },
     "execution_count": 7,
     "metadata": {},
     "output_type": "execute_result"
    }
   ],
   "source": [
    "df_main = df_pff.merge(df_weekly[pd.notnull(df_weekly.nflId)], on=['gameId', 'playId', 'nflId'])\n",
    "df_main.shape"
   ]
  },
  {
   "cell_type": "code",
   "execution_count": 8,
   "id": "3e638282",
   "metadata": {
    "scrolled": false
   },
   "outputs": [
    {
     "data": {
      "text/html": [
       "<div>\n",
       "<style scoped>\n",
       "    .dataframe tbody tr th:only-of-type {\n",
       "        vertical-align: middle;\n",
       "    }\n",
       "\n",
       "    .dataframe tbody tr th {\n",
       "        vertical-align: top;\n",
       "    }\n",
       "\n",
       "    .dataframe thead th {\n",
       "        text-align: right;\n",
       "    }\n",
       "</style>\n",
       "<table border=\"1\" class=\"dataframe\">\n",
       "  <thead>\n",
       "    <tr style=\"text-align: right;\">\n",
       "      <th></th>\n",
       "      <th>gameId</th>\n",
       "      <th>playId</th>\n",
       "      <th>nflId</th>\n",
       "      <th>pff_role</th>\n",
       "      <th>pff_positionLinedUp</th>\n",
       "      <th>frameId</th>\n",
       "      <th>time</th>\n",
       "      <th>jerseyNumber</th>\n",
       "      <th>team</th>\n",
       "      <th>playDirection</th>\n",
       "      <th>x</th>\n",
       "      <th>y</th>\n",
       "      <th>s</th>\n",
       "      <th>a</th>\n",
       "      <th>dis</th>\n",
       "      <th>o</th>\n",
       "      <th>dir</th>\n",
       "      <th>event</th>\n",
       "    </tr>\n",
       "  </thead>\n",
       "  <tbody>\n",
       "    <tr>\n",
       "      <th>0</th>\n",
       "      <td>2021090900</td>\n",
       "      <td>97</td>\n",
       "      <td>25511.0</td>\n",
       "      <td>Pass</td>\n",
       "      <td>QB</td>\n",
       "      <td>1</td>\n",
       "      <td>2021-09-10T00:26:31.100</td>\n",
       "      <td>12.0</td>\n",
       "      <td>TB</td>\n",
       "      <td>right</td>\n",
       "      <td>37.77</td>\n",
       "      <td>24.22</td>\n",
       "      <td>0.29</td>\n",
       "      <td>0.30</td>\n",
       "      <td>0.03</td>\n",
       "      <td>165.16</td>\n",
       "      <td>84.99</td>\n",
       "      <td>None</td>\n",
       "    </tr>\n",
       "    <tr>\n",
       "      <th>1</th>\n",
       "      <td>2021090900</td>\n",
       "      <td>97</td>\n",
       "      <td>25511.0</td>\n",
       "      <td>Pass</td>\n",
       "      <td>QB</td>\n",
       "      <td>2</td>\n",
       "      <td>2021-09-10T00:26:31.200</td>\n",
       "      <td>12.0</td>\n",
       "      <td>TB</td>\n",
       "      <td>right</td>\n",
       "      <td>37.78</td>\n",
       "      <td>24.22</td>\n",
       "      <td>0.23</td>\n",
       "      <td>0.11</td>\n",
       "      <td>0.02</td>\n",
       "      <td>164.33</td>\n",
       "      <td>92.87</td>\n",
       "      <td>None</td>\n",
       "    </tr>\n",
       "    <tr>\n",
       "      <th>2</th>\n",
       "      <td>2021090900</td>\n",
       "      <td>97</td>\n",
       "      <td>25511.0</td>\n",
       "      <td>Pass</td>\n",
       "      <td>QB</td>\n",
       "      <td>3</td>\n",
       "      <td>2021-09-10T00:26:31.300</td>\n",
       "      <td>12.0</td>\n",
       "      <td>TB</td>\n",
       "      <td>right</td>\n",
       "      <td>37.78</td>\n",
       "      <td>24.24</td>\n",
       "      <td>0.16</td>\n",
       "      <td>0.10</td>\n",
       "      <td>0.01</td>\n",
       "      <td>160.24</td>\n",
       "      <td>68.55</td>\n",
       "      <td>None</td>\n",
       "    </tr>\n",
       "    <tr>\n",
       "      <th>3</th>\n",
       "      <td>2021090900</td>\n",
       "      <td>97</td>\n",
       "      <td>25511.0</td>\n",
       "      <td>Pass</td>\n",
       "      <td>QB</td>\n",
       "      <td>4</td>\n",
       "      <td>2021-09-10T00:26:31.400</td>\n",
       "      <td>12.0</td>\n",
       "      <td>TB</td>\n",
       "      <td>right</td>\n",
       "      <td>37.73</td>\n",
       "      <td>24.25</td>\n",
       "      <td>0.15</td>\n",
       "      <td>0.24</td>\n",
       "      <td>0.06</td>\n",
       "      <td>152.13</td>\n",
       "      <td>296.85</td>\n",
       "      <td>None</td>\n",
       "    </tr>\n",
       "    <tr>\n",
       "      <th>4</th>\n",
       "      <td>2021090900</td>\n",
       "      <td>97</td>\n",
       "      <td>25511.0</td>\n",
       "      <td>Pass</td>\n",
       "      <td>QB</td>\n",
       "      <td>5</td>\n",
       "      <td>2021-09-10T00:26:31.500</td>\n",
       "      <td>12.0</td>\n",
       "      <td>TB</td>\n",
       "      <td>right</td>\n",
       "      <td>37.69</td>\n",
       "      <td>24.26</td>\n",
       "      <td>0.25</td>\n",
       "      <td>0.18</td>\n",
       "      <td>0.04</td>\n",
       "      <td>148.33</td>\n",
       "      <td>287.55</td>\n",
       "      <td>None</td>\n",
       "    </tr>\n",
       "    <tr>\n",
       "      <th>...</th>\n",
       "      <td>...</td>\n",
       "      <td>...</td>\n",
       "      <td>...</td>\n",
       "      <td>...</td>\n",
       "      <td>...</td>\n",
       "      <td>...</td>\n",
       "      <td>...</td>\n",
       "      <td>...</td>\n",
       "      <td>...</td>\n",
       "      <td>...</td>\n",
       "      <td>...</td>\n",
       "      <td>...</td>\n",
       "      <td>...</td>\n",
       "      <td>...</td>\n",
       "      <td>...</td>\n",
       "      <td>...</td>\n",
       "      <td>...</td>\n",
       "      <td>...</td>\n",
       "    </tr>\n",
       "    <tr>\n",
       "      <th>978944</th>\n",
       "      <td>2021110100</td>\n",
       "      <td>4433</td>\n",
       "      <td>NaN</td>\n",
       "      <td>NaN</td>\n",
       "      <td>NaN</td>\n",
       "      <td>54</td>\n",
       "      <td>2021-11-02T03:20:26.500</td>\n",
       "      <td>NaN</td>\n",
       "      <td>football</td>\n",
       "      <td>right</td>\n",
       "      <td>24.17</td>\n",
       "      <td>27.89</td>\n",
       "      <td>2.47</td>\n",
       "      <td>2.28</td>\n",
       "      <td>0.25</td>\n",
       "      <td>NaN</td>\n",
       "      <td>NaN</td>\n",
       "      <td>None</td>\n",
       "    </tr>\n",
       "    <tr>\n",
       "      <th>978945</th>\n",
       "      <td>2021110100</td>\n",
       "      <td>4433</td>\n",
       "      <td>NaN</td>\n",
       "      <td>NaN</td>\n",
       "      <td>NaN</td>\n",
       "      <td>55</td>\n",
       "      <td>2021-11-02T03:20:26.600</td>\n",
       "      <td>NaN</td>\n",
       "      <td>football</td>\n",
       "      <td>right</td>\n",
       "      <td>24.36</td>\n",
       "      <td>28.03</td>\n",
       "      <td>2.36</td>\n",
       "      <td>2.16</td>\n",
       "      <td>0.24</td>\n",
       "      <td>NaN</td>\n",
       "      <td>NaN</td>\n",
       "      <td>None</td>\n",
       "    </tr>\n",
       "    <tr>\n",
       "      <th>978946</th>\n",
       "      <td>2021110100</td>\n",
       "      <td>4433</td>\n",
       "      <td>NaN</td>\n",
       "      <td>NaN</td>\n",
       "      <td>NaN</td>\n",
       "      <td>56</td>\n",
       "      <td>2021-11-02T03:20:26.700</td>\n",
       "      <td>NaN</td>\n",
       "      <td>football</td>\n",
       "      <td>right</td>\n",
       "      <td>24.55</td>\n",
       "      <td>28.17</td>\n",
       "      <td>2.25</td>\n",
       "      <td>1.45</td>\n",
       "      <td>0.23</td>\n",
       "      <td>NaN</td>\n",
       "      <td>NaN</td>\n",
       "      <td>None</td>\n",
       "    </tr>\n",
       "    <tr>\n",
       "      <th>978947</th>\n",
       "      <td>2021110100</td>\n",
       "      <td>4433</td>\n",
       "      <td>NaN</td>\n",
       "      <td>NaN</td>\n",
       "      <td>NaN</td>\n",
       "      <td>57</td>\n",
       "      <td>2021-11-02T03:20:26.800</td>\n",
       "      <td>NaN</td>\n",
       "      <td>football</td>\n",
       "      <td>right</td>\n",
       "      <td>24.73</td>\n",
       "      <td>28.31</td>\n",
       "      <td>2.28</td>\n",
       "      <td>0.72</td>\n",
       "      <td>0.23</td>\n",
       "      <td>NaN</td>\n",
       "      <td>NaN</td>\n",
       "      <td>None</td>\n",
       "    </tr>\n",
       "    <tr>\n",
       "      <th>978948</th>\n",
       "      <td>2021110100</td>\n",
       "      <td>4433</td>\n",
       "      <td>NaN</td>\n",
       "      <td>NaN</td>\n",
       "      <td>NaN</td>\n",
       "      <td>58</td>\n",
       "      <td>2021-11-02T03:20:26.900</td>\n",
       "      <td>NaN</td>\n",
       "      <td>football</td>\n",
       "      <td>right</td>\n",
       "      <td>24.91</td>\n",
       "      <td>28.45</td>\n",
       "      <td>2.32</td>\n",
       "      <td>0.54</td>\n",
       "      <td>0.23</td>\n",
       "      <td>NaN</td>\n",
       "      <td>NaN</td>\n",
       "      <td>None</td>\n",
       "    </tr>\n",
       "  </tbody>\n",
       "</table>\n",
       "<p>8314178 rows × 18 columns</p>\n",
       "</div>"
      ],
      "text/plain": [
       "            gameId  playId    nflId pff_role pff_positionLinedUp  frameId  \\\n",
       "0       2021090900      97  25511.0     Pass                  QB        1   \n",
       "1       2021090900      97  25511.0     Pass                  QB        2   \n",
       "2       2021090900      97  25511.0     Pass                  QB        3   \n",
       "3       2021090900      97  25511.0     Pass                  QB        4   \n",
       "4       2021090900      97  25511.0     Pass                  QB        5   \n",
       "...            ...     ...      ...      ...                 ...      ...   \n",
       "978944  2021110100    4433      NaN      NaN                 NaN       54   \n",
       "978945  2021110100    4433      NaN      NaN                 NaN       55   \n",
       "978946  2021110100    4433      NaN      NaN                 NaN       56   \n",
       "978947  2021110100    4433      NaN      NaN                 NaN       57   \n",
       "978948  2021110100    4433      NaN      NaN                 NaN       58   \n",
       "\n",
       "                           time  jerseyNumber      team playDirection      x  \\\n",
       "0       2021-09-10T00:26:31.100          12.0        TB         right  37.77   \n",
       "1       2021-09-10T00:26:31.200          12.0        TB         right  37.78   \n",
       "2       2021-09-10T00:26:31.300          12.0        TB         right  37.78   \n",
       "3       2021-09-10T00:26:31.400          12.0        TB         right  37.73   \n",
       "4       2021-09-10T00:26:31.500          12.0        TB         right  37.69   \n",
       "...                         ...           ...       ...           ...    ...   \n",
       "978944  2021-11-02T03:20:26.500           NaN  football         right  24.17   \n",
       "978945  2021-11-02T03:20:26.600           NaN  football         right  24.36   \n",
       "978946  2021-11-02T03:20:26.700           NaN  football         right  24.55   \n",
       "978947  2021-11-02T03:20:26.800           NaN  football         right  24.73   \n",
       "978948  2021-11-02T03:20:26.900           NaN  football         right  24.91   \n",
       "\n",
       "            y     s     a   dis       o     dir event  \n",
       "0       24.22  0.29  0.30  0.03  165.16   84.99  None  \n",
       "1       24.22  0.23  0.11  0.02  164.33   92.87  None  \n",
       "2       24.24  0.16  0.10  0.01  160.24   68.55  None  \n",
       "3       24.25  0.15  0.24  0.06  152.13  296.85  None  \n",
       "4       24.26  0.25  0.18  0.04  148.33  287.55  None  \n",
       "...       ...   ...   ...   ...     ...     ...   ...  \n",
       "978944  27.89  2.47  2.28  0.25     NaN     NaN  None  \n",
       "978945  28.03  2.36  2.16  0.24     NaN     NaN  None  \n",
       "978946  28.17  2.25  1.45  0.23     NaN     NaN  None  \n",
       "978947  28.31  2.28  0.72  0.23     NaN     NaN  None  \n",
       "978948  28.45  2.32  0.54  0.23     NaN     NaN  None  \n",
       "\n",
       "[8314178 rows x 18 columns]"
      ]
     },
     "execution_count": 8,
     "metadata": {},
     "output_type": "execute_result"
    }
   ],
   "source": [
    "df_main = pd.concat([df_main,df_football])\n",
    "df_main"
   ]
  },
  {
   "cell_type": "markdown",
   "id": "e3fa41a0",
   "metadata": {},
   "source": [
    "The pff and weekly dataset have been merged. Now, the 'plays' dataset needs to be merged with this current dataset. "
   ]
  },
  {
   "cell_type": "code",
   "execution_count": 9,
   "id": "0c8df62b",
   "metadata": {},
   "outputs": [
    {
     "name": "stdout",
     "output_type": "stream",
     "text": [
      "(8557, 32)\n",
      "(8557, 10)\n"
     ]
    },
    {
     "data": {
      "text/plain": [
       "Index(['gameId', 'playId', 'passResult', 'penaltyYards',\n",
       "       'prePenaltyPlayResult', 'playResult', 'absoluteYardlineNumber',\n",
       "       'pff_playAction', 'pff_passCoverage', 'dropBackType'],\n",
       "      dtype='object')"
      ]
     },
     "execution_count": 9,
     "metadata": {},
     "output_type": "execute_result"
    }
   ],
   "source": [
    "df_plays = pd.read_csv('Data/plays.csv')\n",
    "print(df_plays.shape)\n",
    "df_plays['dropBackType'].value_counts()\n",
    "df_plays = df_plays[['gameId', 'playId', 'passResult', 'penaltyYards', 'prePenaltyPlayResult', 'playResult', 'absoluteYardlineNumber', 'pff_playAction', 'pff_passCoverage', 'dropBackType']]\n",
    "print(df_plays.shape)\n",
    "df_plays.columns"
   ]
  },
  {
   "cell_type": "code",
   "execution_count": 10,
   "id": "4b722d27",
   "metadata": {
    "scrolled": true
   },
   "outputs": [
    {
     "data": {
      "text/plain": [
       "(8314178, 26)"
      ]
     },
     "execution_count": 10,
     "metadata": {},
     "output_type": "execute_result"
    }
   ],
   "source": [
    "df_main = df_main.merge(df_plays, on=['gameId', 'playId'])\n",
    "df_main.shape"
   ]
  },
  {
   "cell_type": "markdown",
   "id": "a2758196",
   "metadata": {},
   "source": [
    "I've added 8 new columns to the existing dataframe using 'gameId' and 'playId'. Now, I will clean up the main dataframe to get it ready for the EDA section."
   ]
  },
  {
   "cell_type": "code",
   "execution_count": 11,
   "id": "522fe5cd",
   "metadata": {
    "scrolled": false
   },
   "outputs": [
    {
     "data": {
      "text/plain": [
       "gameId                      int64\n",
       "playId                      int64\n",
       "nflId                     float64\n",
       "pff_role                   object\n",
       "pff_positionLinedUp        object\n",
       "frameId                     int64\n",
       "time                       object\n",
       "jerseyNumber              float64\n",
       "team                       object\n",
       "playDirection              object\n",
       "x                         float64\n",
       "y                         float64\n",
       "s                         float64\n",
       "a                         float64\n",
       "dis                       float64\n",
       "o                         float64\n",
       "dir                       float64\n",
       "event                      object\n",
       "passResult                 object\n",
       "penaltyYards              float64\n",
       "prePenaltyPlayResult        int64\n",
       "playResult                  int64\n",
       "absoluteYardlineNumber    float64\n",
       "pff_playAction              int64\n",
       "pff_passCoverage           object\n",
       "dropBackType               object\n",
       "dtype: object"
      ]
     },
     "execution_count": 11,
     "metadata": {},
     "output_type": "execute_result"
    }
   ],
   "source": [
    "df_main.dtypes"
   ]
  },
  {
   "cell_type": "markdown",
   "id": "b467ab0a",
   "metadata": {},
   "source": [
    "Dropping the columns I do not need going forward."
   ]
  },
  {
   "cell_type": "code",
   "execution_count": 12,
   "id": "743dedf5",
   "metadata": {},
   "outputs": [],
   "source": [
    "df_main.drop(['jerseyNumber', 'time', 'playDirection', 'absoluteYardlineNumber'], inplace=True, axis=1)"
   ]
  },
  {
   "cell_type": "code",
   "execution_count": 13,
   "id": "84c7c1e6",
   "metadata": {},
   "outputs": [
    {
     "data": {
      "text/html": [
       "<div>\n",
       "<style scoped>\n",
       "    .dataframe tbody tr th:only-of-type {\n",
       "        vertical-align: middle;\n",
       "    }\n",
       "\n",
       "    .dataframe tbody tr th {\n",
       "        vertical-align: top;\n",
       "    }\n",
       "\n",
       "    .dataframe thead th {\n",
       "        text-align: right;\n",
       "    }\n",
       "</style>\n",
       "<table border=\"1\" class=\"dataframe\">\n",
       "  <thead>\n",
       "    <tr style=\"text-align: right;\">\n",
       "      <th></th>\n",
       "      <th>x</th>\n",
       "      <th>y</th>\n",
       "      <th>s</th>\n",
       "      <th>a</th>\n",
       "      <th>dis</th>\n",
       "      <th>o</th>\n",
       "      <th>dir</th>\n",
       "    </tr>\n",
       "  </thead>\n",
       "  <tbody>\n",
       "    <tr>\n",
       "      <th>3279066</th>\n",
       "      <td>39.87</td>\n",
       "      <td>33.25</td>\n",
       "      <td>1.87</td>\n",
       "      <td>1.36</td>\n",
       "      <td>0.20</td>\n",
       "      <td>34.81</td>\n",
       "      <td>17.32</td>\n",
       "    </tr>\n",
       "    <tr>\n",
       "      <th>3279143</th>\n",
       "      <td>35.54</td>\n",
       "      <td>25.52</td>\n",
       "      <td>1.52</td>\n",
       "      <td>0.56</td>\n",
       "      <td>0.16</td>\n",
       "      <td>330.05</td>\n",
       "      <td>334.10</td>\n",
       "    </tr>\n",
       "    <tr>\n",
       "      <th>3279220</th>\n",
       "      <td>2.65</td>\n",
       "      <td>28.20</td>\n",
       "      <td>3.96</td>\n",
       "      <td>2.09</td>\n",
       "      <td>0.41</td>\n",
       "      <td>352.85</td>\n",
       "      <td>359.58</td>\n",
       "    </tr>\n",
       "    <tr>\n",
       "      <th>3279297</th>\n",
       "      <td>35.60</td>\n",
       "      <td>49.75</td>\n",
       "      <td>7.16</td>\n",
       "      <td>3.21</td>\n",
       "      <td>0.74</td>\n",
       "      <td>329.72</td>\n",
       "      <td>341.67</td>\n",
       "    </tr>\n",
       "    <tr>\n",
       "      <th>3279374</th>\n",
       "      <td>32.92</td>\n",
       "      <td>50.09</td>\n",
       "      <td>7.68</td>\n",
       "      <td>4.29</td>\n",
       "      <td>0.81</td>\n",
       "      <td>4.14</td>\n",
       "      <td>358.82</td>\n",
       "    </tr>\n",
       "    <tr>\n",
       "      <th>3279451</th>\n",
       "      <td>27.61</td>\n",
       "      <td>45.34</td>\n",
       "      <td>5.87</td>\n",
       "      <td>2.61</td>\n",
       "      <td>0.62</td>\n",
       "      <td>1.04</td>\n",
       "      <td>352.86</td>\n",
       "    </tr>\n",
       "    <tr>\n",
       "      <th>3279528</th>\n",
       "      <td>19.85</td>\n",
       "      <td>44.88</td>\n",
       "      <td>5.42</td>\n",
       "      <td>1.36</td>\n",
       "      <td>0.55</td>\n",
       "      <td>355.91</td>\n",
       "      <td>346.84</td>\n",
       "    </tr>\n",
       "    <tr>\n",
       "      <th>3279605</th>\n",
       "      <td>10.01</td>\n",
       "      <td>53.31</td>\n",
       "      <td>1.92</td>\n",
       "      <td>2.22</td>\n",
       "      <td>0.19</td>\n",
       "      <td>90.04</td>\n",
       "      <td>267.26</td>\n",
       "    </tr>\n",
       "    <tr>\n",
       "      <th>3279682</th>\n",
       "      <td>2.37</td>\n",
       "      <td>27.93</td>\n",
       "      <td>4.76</td>\n",
       "      <td>1.56</td>\n",
       "      <td>0.48</td>\n",
       "      <td>81.54</td>\n",
       "      <td>350.97</td>\n",
       "    </tr>\n",
       "    <tr>\n",
       "      <th>3279759</th>\n",
       "      <td>9.47</td>\n",
       "      <td>47.53</td>\n",
       "      <td>2.57</td>\n",
       "      <td>0.38</td>\n",
       "      <td>0.26</td>\n",
       "      <td>83.20</td>\n",
       "      <td>301.55</td>\n",
       "    </tr>\n",
       "    <tr>\n",
       "      <th>3279836</th>\n",
       "      <td>4.17</td>\n",
       "      <td>48.21</td>\n",
       "      <td>3.02</td>\n",
       "      <td>6.21</td>\n",
       "      <td>0.33</td>\n",
       "      <td>87.95</td>\n",
       "      <td>326.59</td>\n",
       "    </tr>\n",
       "    <tr>\n",
       "      <th>3279913</th>\n",
       "      <td>2.68</td>\n",
       "      <td>48.25</td>\n",
       "      <td>1.05</td>\n",
       "      <td>3.44</td>\n",
       "      <td>0.09</td>\n",
       "      <td>86.43</td>\n",
       "      <td>167.32</td>\n",
       "    </tr>\n",
       "    <tr>\n",
       "      <th>3279990</th>\n",
       "      <td>18.84</td>\n",
       "      <td>32.13</td>\n",
       "      <td>5.25</td>\n",
       "      <td>0.50</td>\n",
       "      <td>0.53</td>\n",
       "      <td>26.84</td>\n",
       "      <td>353.86</td>\n",
       "    </tr>\n",
       "    <tr>\n",
       "      <th>3280067</th>\n",
       "      <td>28.23</td>\n",
       "      <td>26.06</td>\n",
       "      <td>0.81</td>\n",
       "      <td>0.60</td>\n",
       "      <td>0.08</td>\n",
       "      <td>13.40</td>\n",
       "      <td>22.63</td>\n",
       "    </tr>\n",
       "    <tr>\n",
       "      <th>3280144</th>\n",
       "      <td>32.38</td>\n",
       "      <td>37.54</td>\n",
       "      <td>1.34</td>\n",
       "      <td>1.54</td>\n",
       "      <td>0.15</td>\n",
       "      <td>1.21</td>\n",
       "      <td>355.52</td>\n",
       "    </tr>\n",
       "    <tr>\n",
       "      <th>3280221</th>\n",
       "      <td>11.14</td>\n",
       "      <td>9.14</td>\n",
       "      <td>1.45</td>\n",
       "      <td>0.36</td>\n",
       "      <td>0.15</td>\n",
       "      <td>344.48</td>\n",
       "      <td>337.99</td>\n",
       "    </tr>\n",
       "    <tr>\n",
       "      <th>3280298</th>\n",
       "      <td>8.25</td>\n",
       "      <td>12.11</td>\n",
       "      <td>1.45</td>\n",
       "      <td>0.38</td>\n",
       "      <td>0.15</td>\n",
       "      <td>31.95</td>\n",
       "      <td>1.07</td>\n",
       "    </tr>\n",
       "    <tr>\n",
       "      <th>3280375</th>\n",
       "      <td>35.64</td>\n",
       "      <td>53.07</td>\n",
       "      <td>8.14</td>\n",
       "      <td>2.26</td>\n",
       "      <td>0.83</td>\n",
       "      <td>282.50</td>\n",
       "      <td>329.77</td>\n",
       "    </tr>\n",
       "    <tr>\n",
       "      <th>3280452</th>\n",
       "      <td>10.87</td>\n",
       "      <td>54.26</td>\n",
       "      <td>1.93</td>\n",
       "      <td>2.49</td>\n",
       "      <td>0.19</td>\n",
       "      <td>186.13</td>\n",
       "      <td>337.54</td>\n",
       "    </tr>\n",
       "    <tr>\n",
       "      <th>3280529</th>\n",
       "      <td>37.90</td>\n",
       "      <td>29.83</td>\n",
       "      <td>2.74</td>\n",
       "      <td>2.40</td>\n",
       "      <td>0.28</td>\n",
       "      <td>294.97</td>\n",
       "      <td>321.11</td>\n",
       "    </tr>\n",
       "    <tr>\n",
       "      <th>3280606</th>\n",
       "      <td>31.93</td>\n",
       "      <td>28.69</td>\n",
       "      <td>1.09</td>\n",
       "      <td>0.93</td>\n",
       "      <td>0.11</td>\n",
       "      <td>288.52</td>\n",
       "      <td>304.26</td>\n",
       "    </tr>\n",
       "    <tr>\n",
       "      <th>3280683</th>\n",
       "      <td>21.82</td>\n",
       "      <td>34.47</td>\n",
       "      <td>4.56</td>\n",
       "      <td>1.30</td>\n",
       "      <td>0.46</td>\n",
       "      <td>23.73</td>\n",
       "      <td>348.67</td>\n",
       "    </tr>\n",
       "    <tr>\n",
       "      <th>3280760</th>\n",
       "      <td>36.09</td>\n",
       "      <td>52.66</td>\n",
       "      <td>5.43</td>\n",
       "      <td>4.07</td>\n",
       "      <td>0.56</td>\n",
       "      <td>NaN</td>\n",
       "      <td>NaN</td>\n",
       "    </tr>\n",
       "  </tbody>\n",
       "</table>\n",
       "</div>"
      ],
      "text/plain": [
       "             x      y     s     a   dis       o     dir\n",
       "3279066  39.87  33.25  1.87  1.36  0.20   34.81   17.32\n",
       "3279143  35.54  25.52  1.52  0.56  0.16  330.05  334.10\n",
       "3279220   2.65  28.20  3.96  2.09  0.41  352.85  359.58\n",
       "3279297  35.60  49.75  7.16  3.21  0.74  329.72  341.67\n",
       "3279374  32.92  50.09  7.68  4.29  0.81    4.14  358.82\n",
       "3279451  27.61  45.34  5.87  2.61  0.62    1.04  352.86\n",
       "3279528  19.85  44.88  5.42  1.36  0.55  355.91  346.84\n",
       "3279605  10.01  53.31  1.92  2.22  0.19   90.04  267.26\n",
       "3279682   2.37  27.93  4.76  1.56  0.48   81.54  350.97\n",
       "3279759   9.47  47.53  2.57  0.38  0.26   83.20  301.55\n",
       "3279836   4.17  48.21  3.02  6.21  0.33   87.95  326.59\n",
       "3279913   2.68  48.25  1.05  3.44  0.09   86.43  167.32\n",
       "3279990  18.84  32.13  5.25  0.50  0.53   26.84  353.86\n",
       "3280067  28.23  26.06  0.81  0.60  0.08   13.40   22.63\n",
       "3280144  32.38  37.54  1.34  1.54  0.15    1.21  355.52\n",
       "3280221  11.14   9.14  1.45  0.36  0.15  344.48  337.99\n",
       "3280298   8.25  12.11  1.45  0.38  0.15   31.95    1.07\n",
       "3280375  35.64  53.07  8.14  2.26  0.83  282.50  329.77\n",
       "3280452  10.87  54.26  1.93  2.49  0.19  186.13  337.54\n",
       "3280529  37.90  29.83  2.74  2.40  0.28  294.97  321.11\n",
       "3280606  31.93  28.69  1.09  0.93  0.11  288.52  304.26\n",
       "3280683  21.82  34.47  4.56  1.30  0.46   23.73  348.67\n",
       "3280760  36.09  52.66  5.43  4.07  0.56     NaN     NaN"
      ]
     },
     "execution_count": 13,
     "metadata": {},
     "output_type": "execute_result"
    }
   ],
   "source": [
    "# 2021092700 3905 72\n",
    "df_main5 = df_main[df_main['gameId'] == 2021092700]\n",
    "df_main5 = df_main5[df_main5['playId'] == 3905]\n",
    "df_main5 = df_main5[df_main5['frameId'] == 72]\n",
    "df_main5 = df_main5[['x','y','s','a','dis','o','dir']]\n",
    "df_main5"
   ]
  },
  {
   "cell_type": "markdown",
   "id": "5b9d4a24",
   "metadata": {},
   "source": [
    "I will check the x,y,s,a,dis,o,dir columns to make sure there are no values that do not fit their respective criteria"
   ]
  },
  {
   "cell_type": "code",
   "execution_count": 14,
   "id": "abe00399",
   "metadata": {},
   "outputs": [],
   "source": [
    "# Method to check the min and max number values of each column\n",
    "def find_min_max(col, df):\n",
    "    sub_arr = df[col].unique()\n",
    "    unique, counts = np.unique(sub_arr, return_counts=True)\n",
    "    unique_min = min(unique)\n",
    "    unique_max = max(unique)\n",
    "    print('min: ', unique_min)\n",
    "    print('max: ', unique_max)"
   ]
  },
  {
   "cell_type": "code",
   "execution_count": 15,
   "id": "d14946c7",
   "metadata": {},
   "outputs": [
    {
     "name": "stdout",
     "output_type": "stream",
     "text": [
      "(8314066, 22)\n",
      "min:  0.0\n",
      "max:  120.0\n"
     ]
    }
   ],
   "source": [
    "df_main = df_main[(df_main['x'] >= 0) & (df_main['x'] <= 120)]\n",
    "print(df_main.shape)\n",
    "find_min_max('x', df_main)"
   ]
  },
  {
   "cell_type": "code",
   "execution_count": 16,
   "id": "15ccfd54",
   "metadata": {},
   "outputs": [
    {
     "name": "stdout",
     "output_type": "stream",
     "text": [
      "min:  0.0\n",
      "max:  53.3\n"
     ]
    }
   ],
   "source": [
    "df_main = df_main[(df_main['y'] >= 0) & (df_main['y'] <= 53.3)]\n",
    "find_min_max('y', df_main)"
   ]
  },
  {
   "cell_type": "code",
   "execution_count": 17,
   "id": "5a5e39f9",
   "metadata": {},
   "outputs": [
    {
     "name": "stdout",
     "output_type": "stream",
     "text": [
      "min:  0.0\n",
      "max:  360.0\n"
     ]
    }
   ],
   "source": [
    "find_min_max('o', df_main)"
   ]
  },
  {
   "cell_type": "code",
   "execution_count": 18,
   "id": "9ecddf37",
   "metadata": {},
   "outputs": [
    {
     "name": "stdout",
     "output_type": "stream",
     "text": [
      "min:  0.0\n",
      "max:  360.0\n"
     ]
    }
   ],
   "source": [
    "find_min_max('dir', df_main)"
   ]
  },
  {
   "cell_type": "code",
   "execution_count": 19,
   "id": "54c9598b",
   "metadata": {},
   "outputs": [
    {
     "name": "stdout",
     "output_type": "stream",
     "text": [
      "min:  0.0\n"
     ]
    }
   ],
   "source": [
    "sub_arr = df_main['s'].unique()\n",
    "unique, counts = np.unique(sub_arr, return_counts=True)\n",
    "unique_min = min(unique)\n",
    "print('min: ', unique_min)"
   ]
  },
  {
   "cell_type": "code",
   "execution_count": 20,
   "id": "f3917334",
   "metadata": {},
   "outputs": [
    {
     "name": "stdout",
     "output_type": "stream",
     "text": [
      "min:  0.0\n"
     ]
    }
   ],
   "source": [
    "sub_arr = df_main['a'].unique()\n",
    "unique, counts = np.unique(sub_arr, return_counts=True)\n",
    "unique_min = min(unique)\n",
    "print('min: ', unique_min)"
   ]
  },
  {
   "cell_type": "code",
   "execution_count": 21,
   "id": "feecb2bf",
   "metadata": {},
   "outputs": [
    {
     "name": "stdout",
     "output_type": "stream",
     "text": [
      "min:  0.0\n"
     ]
    }
   ],
   "source": [
    "sub_arr = df_main['dis'].unique()\n",
    "unique, counts = np.unique(sub_arr, return_counts=True)\n",
    "unique_min = min(unique)\n",
    "print('min: ', unique_min)"
   ]
  },
  {
   "cell_type": "markdown",
   "id": "4a18984d",
   "metadata": {},
   "source": [
    "I've confirmed that x,y,s,a,dis,o,dir columns all have accurate data now, I've dropped rows in columns that do not fit the criteria laid out by the NFL that came with the dataset. I will investigate the rest of the columns in the dataset to confirm they fit the criteria as well."
   ]
  },
  {
   "cell_type": "code",
   "execution_count": 22,
   "id": "e09c9cbc",
   "metadata": {
    "scrolled": true
   },
   "outputs": [
    {
     "name": "stdout",
     "output_type": "stream",
     "text": [
      "min:  1\n",
      "max:  203\n",
      "FrameID:  None\n",
      "min:  -34\n",
      "max:  91\n",
      "prePenaltyPlayResult:  None\n",
      "min:  -18.0\n",
      "max:  50.0\n",
      "penaltyYards:  None\n",
      "min:  -34\n",
      "max:  91\n",
      "playResult:  None\n",
      "min:  0\n",
      "max:  1\n",
      "pff_playAction:  None\n"
     ]
    }
   ],
   "source": [
    "print('FrameID: ', find_min_max('frameId', df_main))\n",
    "print('prePenaltyPlayResult: ', find_min_max('prePenaltyPlayResult', df_main))\n",
    "print('penaltyYards: ', find_min_max('penaltyYards', df_main))\n",
    "print('playResult: ', find_min_max('playResult', df_main))\n",
    "print('pff_playAction: ', find_min_max('pff_playAction', df_main))"
   ]
  },
  {
   "cell_type": "code",
   "execution_count": 23,
   "id": "0ab37908",
   "metadata": {},
   "outputs": [
    {
     "name": "stdout",
     "output_type": "stream",
     "text": [
      "94\n",
      "19159\n"
     ]
    }
   ],
   "source": [
    "count = 0\n",
    "count_instances = 0\n",
    "play_list = []\n",
    "game_list = []\n",
    "for game in df_main['gameId'].unique():\n",
    "    df = df_main[df_main['gameId'] == game]\n",
    "    unique_plays = df['playId'].unique()\n",
    "    for play in unique_plays:\n",
    "        df1 = df[df['playId'] == play]\n",
    "        frames = df1['frameId'].unique()\n",
    "        for frame in frames:\n",
    "            df2 = df1[df1['frameId'] == frame]\n",
    "            if df2.shape[0] == 23:\n",
    "                pass\n",
    "            else:\n",
    "                count_instances += df2.shape[0]\n",
    "                if (game in game_list) &( play in play_list):\n",
    "                    pass\n",
    "                else:\n",
    "                    play_list.append(play)\n",
    "                    game_list.append(game)\n",
    "                    count += 1\n",
    "                    \n",
    "print(count)\n",
    "print(count_instances)"
   ]
  },
  {
   "cell_type": "markdown",
   "id": "34c16e85",
   "metadata": {},
   "source": [
    "All the min and max units above are accurate."
   ]
  },
  {
   "cell_type": "code",
   "execution_count": 24,
   "id": "4ba3083d",
   "metadata": {
    "scrolled": true
   },
   "outputs": [
    {
     "data": {
      "text/plain": [
       "(8051817, 22)"
      ]
     },
     "execution_count": 24,
     "metadata": {},
     "output_type": "execute_result"
    }
   ],
   "source": [
    "df_main = df_main.drop(df_main[(df_main['gameId'].isin(game_list)) & (df_main['playId'].isin(play_list))].index)\n",
    "df_main.shape"
   ]
  },
  {
   "cell_type": "markdown",
   "id": "bd2d7ab0",
   "metadata": {},
   "source": [
    "I will confirm that each frame has 23 \"players\" or nflIds. 11 players on each team and an extra row for the football."
   ]
  },
  {
   "cell_type": "code",
   "execution_count": 25,
   "id": "087b82da",
   "metadata": {},
   "outputs": [
    {
     "name": "stdout",
     "output_type": "stream",
     "text": [
      "0\n",
      "0\n"
     ]
    }
   ],
   "source": [
    "count = 0\n",
    "count_instances = 0\n",
    "play_list = []\n",
    "game_list = []\n",
    "for game in df_main['gameId'].unique():\n",
    "    df = df_main[df_main['gameId'] == game]\n",
    "    unique_plays = df['playId'].unique()\n",
    "    for play in unique_plays:\n",
    "        df1 = df[df['playId'] == play]\n",
    "        frames = df1['frameId'].unique()\n",
    "        for frame in frames:\n",
    "            df2 = df1[df1['frameId'] == frame]\n",
    "            if df2.shape[0] == 23:\n",
    "                pass\n",
    "            else:\n",
    "                count_instances += df2.shape[0]\n",
    "                if (game in game_list) &( play in play_list):\n",
    "                    pass\n",
    "                else:\n",
    "                    play_list.append(play)\n",
    "                    game_list.append(game)\n",
    "                    count += 1\n",
    "                    \n",
    "print(count)\n",
    "print(count_instances)"
   ]
  },
  {
   "cell_type": "markdown",
   "id": "e36158ee",
   "metadata": {},
   "source": [
    "The dataframe now has accurate player numbers for each frame and play. Now is the time to deal with NaN values."
   ]
  },
  {
   "cell_type": "code",
   "execution_count": 27,
   "id": "b14f4311",
   "metadata": {
    "scrolled": false
   },
   "outputs": [
    {
     "data": {
      "text/plain": [
       "gameId                        0\n",
       "playId                        0\n",
       "nflId                    350079\n",
       "pff_role                 350079\n",
       "pff_positionLinedUp      350079\n",
       "frameId                       0\n",
       "team                          0\n",
       "x                             0\n",
       "y                             0\n",
       "s                             0\n",
       "a                             0\n",
       "dis                           0\n",
       "o                        350079\n",
       "dir                      350079\n",
       "event                         0\n",
       "passResult                    0\n",
       "penaltyYards            7271634\n",
       "prePenaltyPlayResult          0\n",
       "playResult                    0\n",
       "pff_playAction                0\n",
       "pff_passCoverage              0\n",
       "dropBackType             529092\n",
       "dtype: int64"
      ]
     },
     "execution_count": 27,
     "metadata": {},
     "output_type": "execute_result"
    }
   ],
   "source": [
    "df_main.isna().sum()"
   ]
  },
  {
   "cell_type": "markdown",
   "id": "15b233c4",
   "metadata": {},
   "source": [
    "According to the NFL, the tracking of 'football' doesn't include nflId, pff_role, pff_positionLinedUp, o, dir. For o and dir, I will 0 out the NaNs. NflId, pff_role, and pff_positionLinedUp will be changed in the pre-processing step of the process. I will need the information for the exploratory data analysis step. \n",
    "\n",
    "First, I am going to confirm that the NaNs in the dataset are all related to the 'football' tracking rows, and then 0 out the fields."
   ]
  },
  {
   "cell_type": "code",
   "execution_count": 28,
   "id": "6d53507a",
   "metadata": {},
   "outputs": [
    {
     "data": {
      "text/plain": [
       "gameId                       0\n",
       "playId                       0\n",
       "nflId                   350079\n",
       "pff_role                350079\n",
       "pff_positionLinedUp     350079\n",
       "frameId                      0\n",
       "team                         0\n",
       "x                            0\n",
       "y                            0\n",
       "s                            0\n",
       "a                            0\n",
       "dis                          0\n",
       "o                       350079\n",
       "dir                     350079\n",
       "event                        0\n",
       "passResult                   0\n",
       "penaltyYards            316158\n",
       "prePenaltyPlayResult         0\n",
       "playResult                   0\n",
       "pff_playAction               0\n",
       "pff_passCoverage             0\n",
       "dropBackType             23004\n",
       "dtype: int64"
      ]
     },
     "execution_count": 28,
     "metadata": {},
     "output_type": "execute_result"
    }
   ],
   "source": [
    "df_main[df_main['team'] == 'football'].isna().sum()"
   ]
  },
  {
   "cell_type": "code",
   "execution_count": 29,
   "id": "63bad155",
   "metadata": {},
   "outputs": [
    {
     "data": {
      "text/plain": [
       "gameId                        0\n",
       "playId                        0\n",
       "nflId                    350079\n",
       "pff_role                 350079\n",
       "pff_positionLinedUp      350079\n",
       "frameId                       0\n",
       "team                          0\n",
       "x                             0\n",
       "y                             0\n",
       "s                             0\n",
       "a                             0\n",
       "dis                           0\n",
       "o                             0\n",
       "dir                           0\n",
       "event                         0\n",
       "passResult                    0\n",
       "penaltyYards            7271634\n",
       "prePenaltyPlayResult          0\n",
       "playResult                    0\n",
       "pff_playAction                0\n",
       "pff_passCoverage              0\n",
       "dropBackType             529092\n",
       "dtype: int64"
      ]
     },
     "execution_count": 29,
     "metadata": {},
     "output_type": "execute_result"
    }
   ],
   "source": [
    "df_main[[\"o\",\"dir\"]] = df_main[[\"o\",\"dir\"]].fillna(0)\n",
    "df_main.isna().sum()"
   ]
  },
  {
   "cell_type": "markdown",
   "id": "7c8b0687",
   "metadata": {},
   "source": [
    "The penalty yards row is needed for further analysis in the future. But when there is no penalty on a play, it is tracked as NaN, I will replace them with 0s since there was 0 penalty yardage on the play."
   ]
  },
  {
   "cell_type": "code",
   "execution_count": 30,
   "id": "4e22442a",
   "metadata": {},
   "outputs": [
    {
     "data": {
      "text/plain": [
       "gameId                       0\n",
       "playId                       0\n",
       "nflId                   350079\n",
       "pff_role                350079\n",
       "pff_positionLinedUp     350079\n",
       "frameId                      0\n",
       "team                         0\n",
       "x                            0\n",
       "y                            0\n",
       "s                            0\n",
       "a                            0\n",
       "dis                          0\n",
       "o                            0\n",
       "dir                          0\n",
       "event                        0\n",
       "passResult                   0\n",
       "penaltyYards                 0\n",
       "prePenaltyPlayResult         0\n",
       "playResult                   0\n",
       "pff_playAction               0\n",
       "pff_passCoverage             0\n",
       "dropBackType            529092\n",
       "dtype: int64"
      ]
     },
     "execution_count": 30,
     "metadata": {},
     "output_type": "execute_result"
    }
   ],
   "source": [
    "df_main['penaltyYards'] = df_main['penaltyYards'].fillna(0)\n",
    "df_main.isna().sum()"
   ]
  },
  {
   "cell_type": "code",
   "execution_count": 31,
   "id": "16d909b2",
   "metadata": {},
   "outputs": [
    {
     "data": {
      "text/plain": [
       "TRADITIONAL               5798668\n",
       "SCRAMBLE                  1136660\n",
       "DESIGNED_ROLLOUT_RIGHT     266685\n",
       "DESIGNED_ROLLOUT_LEFT      147361\n",
       "SCRAMBLE_ROLLOUT_RIGHT     141703\n",
       "SCRAMBLE_ROLLOUT_LEFT       25921\n",
       "DESIGNED_RUN                 4439\n",
       "UNKNOWN                      1288\n",
       "Name: dropBackType, dtype: int64"
      ]
     },
     "execution_count": 31,
     "metadata": {},
     "output_type": "execute_result"
    }
   ],
   "source": [
    "df_main['dropBackType'].value_counts()"
   ]
  },
  {
   "cell_type": "markdown",
   "id": "31edc18d",
   "metadata": {},
   "source": [
    "The dropBackType field is only needed to drop all plays that were 'designed_run's. Designed Runs do not effect an analysis on passing plays. I will drop all fields where the play is a designed run, and then make sure that each frame/play has 23 participants."
   ]
  },
  {
   "cell_type": "code",
   "execution_count": 32,
   "id": "bed89a02",
   "metadata": {},
   "outputs": [
    {
     "data": {
      "text/plain": [
       "(8051817, 22)"
      ]
     },
     "execution_count": 32,
     "metadata": {},
     "output_type": "execute_result"
    }
   ],
   "source": [
    "df_main.shape"
   ]
  },
  {
   "cell_type": "code",
   "execution_count": 34,
   "id": "7ce9221d",
   "metadata": {},
   "outputs": [
    {
     "data": {
      "text/plain": [
       "(8047378, 22)"
      ]
     },
     "execution_count": 34,
     "metadata": {},
     "output_type": "execute_result"
    }
   ],
   "source": [
    "df_main = df_main[df_main['dropBackType'] != 'DESIGNED_RUN']\n",
    "df_main.shape"
   ]
  },
  {
   "cell_type": "code",
   "execution_count": 35,
   "id": "05f88aec",
   "metadata": {},
   "outputs": [
    {
     "name": "stdout",
     "output_type": "stream",
     "text": [
      "0\n",
      "0\n"
     ]
    }
   ],
   "source": [
    "count = 0\n",
    "count_instances = 0\n",
    "play_list = []\n",
    "game_list = []\n",
    "for game in df_main['gameId'].unique():\n",
    "    df = df_main[df_main['gameId'] == game]\n",
    "    unique_plays = df['playId'].unique()\n",
    "    for play in unique_plays:\n",
    "        df1 = df[df['playId'] == play]\n",
    "        frames = df1['frameId'].unique()\n",
    "        for frame in frames:\n",
    "            df2 = df1[df1['frameId'] == frame]\n",
    "            if df2.shape[0] == 23:\n",
    "                pass\n",
    "            else:\n",
    "                count_instances += df2.shape[0]\n",
    "                if (game in game_list) &( play in play_list):\n",
    "                    pass\n",
    "                else:\n",
    "                    play_list.append(play)\n",
    "                    game_list.append(game)\n",
    "                    count += 1\n",
    "                    \n",
    "print(count)\n",
    "print(count_instances)"
   ]
  },
  {
   "cell_type": "code",
   "execution_count": 39,
   "id": "706feed5",
   "metadata": {
    "scrolled": false
   },
   "outputs": [
    {
     "data": {
      "text/plain": [
       "gameId                       0\n",
       "playId                       0\n",
       "nflId                   349886\n",
       "pff_role                349886\n",
       "pff_positionLinedUp     349886\n",
       "frameId                      0\n",
       "team                         0\n",
       "x                            0\n",
       "y                            0\n",
       "s                            0\n",
       "a                            0\n",
       "dis                          0\n",
       "o                            0\n",
       "dir                          0\n",
       "event                        0\n",
       "passResult                   0\n",
       "penaltyYards                 0\n",
       "prePenaltyPlayResult         0\n",
       "playResult                   0\n",
       "pff_playAction               0\n",
       "pff_passCoverage             0\n",
       "dtype: int64"
      ]
     },
     "execution_count": 39,
     "metadata": {},
     "output_type": "execute_result"
    }
   ],
   "source": [
    "df_main = df_main.drop(['dropBackType'], axis=1)\n",
    "\n",
    "df_main.isna().sum()"
   ]
  },
  {
   "cell_type": "code",
   "execution_count": 41,
   "id": "e13af07c",
   "metadata": {},
   "outputs": [
    {
     "data": {
      "text/html": [
       "<div>\n",
       "<style scoped>\n",
       "    .dataframe tbody tr th:only-of-type {\n",
       "        vertical-align: middle;\n",
       "    }\n",
       "\n",
       "    .dataframe tbody tr th {\n",
       "        vertical-align: top;\n",
       "    }\n",
       "\n",
       "    .dataframe thead th {\n",
       "        text-align: right;\n",
       "    }\n",
       "</style>\n",
       "<table border=\"1\" class=\"dataframe\">\n",
       "  <thead>\n",
       "    <tr style=\"text-align: right;\">\n",
       "      <th></th>\n",
       "      <th>gameId</th>\n",
       "      <th>playId</th>\n",
       "      <th>nflId</th>\n",
       "      <th>pff_role</th>\n",
       "      <th>pff_positionLinedUp</th>\n",
       "      <th>frameId</th>\n",
       "      <th>team</th>\n",
       "      <th>x</th>\n",
       "      <th>y</th>\n",
       "      <th>s</th>\n",
       "      <th>...</th>\n",
       "      <th>dis</th>\n",
       "      <th>o</th>\n",
       "      <th>dir</th>\n",
       "      <th>event</th>\n",
       "      <th>passResult</th>\n",
       "      <th>penaltyYards</th>\n",
       "      <th>prePenaltyPlayResult</th>\n",
       "      <th>playResult</th>\n",
       "      <th>pff_playAction</th>\n",
       "      <th>pff_passCoverage</th>\n",
       "    </tr>\n",
       "  </thead>\n",
       "  <tbody>\n",
       "    <tr>\n",
       "      <th>0</th>\n",
       "      <td>2021090900</td>\n",
       "      <td>97</td>\n",
       "      <td>25511.0</td>\n",
       "      <td>Pass</td>\n",
       "      <td>QB</td>\n",
       "      <td>1</td>\n",
       "      <td>TB</td>\n",
       "      <td>37.77</td>\n",
       "      <td>24.22</td>\n",
       "      <td>0.29</td>\n",
       "      <td>...</td>\n",
       "      <td>0.03</td>\n",
       "      <td>165.16</td>\n",
       "      <td>84.99</td>\n",
       "      <td>None</td>\n",
       "      <td>I</td>\n",
       "      <td>0.0</td>\n",
       "      <td>0</td>\n",
       "      <td>0</td>\n",
       "      <td>0</td>\n",
       "      <td>Cover-1</td>\n",
       "    </tr>\n",
       "    <tr>\n",
       "      <th>1</th>\n",
       "      <td>2021090900</td>\n",
       "      <td>97</td>\n",
       "      <td>25511.0</td>\n",
       "      <td>Pass</td>\n",
       "      <td>QB</td>\n",
       "      <td>2</td>\n",
       "      <td>TB</td>\n",
       "      <td>37.78</td>\n",
       "      <td>24.22</td>\n",
       "      <td>0.23</td>\n",
       "      <td>...</td>\n",
       "      <td>0.02</td>\n",
       "      <td>164.33</td>\n",
       "      <td>92.87</td>\n",
       "      <td>None</td>\n",
       "      <td>I</td>\n",
       "      <td>0.0</td>\n",
       "      <td>0</td>\n",
       "      <td>0</td>\n",
       "      <td>0</td>\n",
       "      <td>Cover-1</td>\n",
       "    </tr>\n",
       "    <tr>\n",
       "      <th>2</th>\n",
       "      <td>2021090900</td>\n",
       "      <td>97</td>\n",
       "      <td>25511.0</td>\n",
       "      <td>Pass</td>\n",
       "      <td>QB</td>\n",
       "      <td>3</td>\n",
       "      <td>TB</td>\n",
       "      <td>37.78</td>\n",
       "      <td>24.24</td>\n",
       "      <td>0.16</td>\n",
       "      <td>...</td>\n",
       "      <td>0.01</td>\n",
       "      <td>160.24</td>\n",
       "      <td>68.55</td>\n",
       "      <td>None</td>\n",
       "      <td>I</td>\n",
       "      <td>0.0</td>\n",
       "      <td>0</td>\n",
       "      <td>0</td>\n",
       "      <td>0</td>\n",
       "      <td>Cover-1</td>\n",
       "    </tr>\n",
       "    <tr>\n",
       "      <th>3</th>\n",
       "      <td>2021090900</td>\n",
       "      <td>97</td>\n",
       "      <td>25511.0</td>\n",
       "      <td>Pass</td>\n",
       "      <td>QB</td>\n",
       "      <td>4</td>\n",
       "      <td>TB</td>\n",
       "      <td>37.73</td>\n",
       "      <td>24.25</td>\n",
       "      <td>0.15</td>\n",
       "      <td>...</td>\n",
       "      <td>0.06</td>\n",
       "      <td>152.13</td>\n",
       "      <td>296.85</td>\n",
       "      <td>None</td>\n",
       "      <td>I</td>\n",
       "      <td>0.0</td>\n",
       "      <td>0</td>\n",
       "      <td>0</td>\n",
       "      <td>0</td>\n",
       "      <td>Cover-1</td>\n",
       "    </tr>\n",
       "    <tr>\n",
       "      <th>4</th>\n",
       "      <td>2021090900</td>\n",
       "      <td>97</td>\n",
       "      <td>25511.0</td>\n",
       "      <td>Pass</td>\n",
       "      <td>QB</td>\n",
       "      <td>5</td>\n",
       "      <td>TB</td>\n",
       "      <td>37.69</td>\n",
       "      <td>24.26</td>\n",
       "      <td>0.25</td>\n",
       "      <td>...</td>\n",
       "      <td>0.04</td>\n",
       "      <td>148.33</td>\n",
       "      <td>287.55</td>\n",
       "      <td>None</td>\n",
       "      <td>I</td>\n",
       "      <td>0.0</td>\n",
       "      <td>0</td>\n",
       "      <td>0</td>\n",
       "      <td>0</td>\n",
       "      <td>Cover-1</td>\n",
       "    </tr>\n",
       "  </tbody>\n",
       "</table>\n",
       "<p>5 rows × 21 columns</p>\n",
       "</div>"
      ],
      "text/plain": [
       "       gameId  playId    nflId pff_role pff_positionLinedUp  frameId team  \\\n",
       "0  2021090900      97  25511.0     Pass                  QB        1   TB   \n",
       "1  2021090900      97  25511.0     Pass                  QB        2   TB   \n",
       "2  2021090900      97  25511.0     Pass                  QB        3   TB   \n",
       "3  2021090900      97  25511.0     Pass                  QB        4   TB   \n",
       "4  2021090900      97  25511.0     Pass                  QB        5   TB   \n",
       "\n",
       "       x      y     s  ...   dis       o     dir  event passResult  \\\n",
       "0  37.77  24.22  0.29  ...  0.03  165.16   84.99   None          I   \n",
       "1  37.78  24.22  0.23  ...  0.02  164.33   92.87   None          I   \n",
       "2  37.78  24.24  0.16  ...  0.01  160.24   68.55   None          I   \n",
       "3  37.73  24.25  0.15  ...  0.06  152.13  296.85   None          I   \n",
       "4  37.69  24.26  0.25  ...  0.04  148.33  287.55   None          I   \n",
       "\n",
       "  penaltyYards  prePenaltyPlayResult  playResult  pff_playAction  \\\n",
       "0          0.0                     0           0               0   \n",
       "1          0.0                     0           0               0   \n",
       "2          0.0                     0           0               0   \n",
       "3          0.0                     0           0               0   \n",
       "4          0.0                     0           0               0   \n",
       "\n",
       "   pff_passCoverage  \n",
       "0           Cover-1  \n",
       "1           Cover-1  \n",
       "2           Cover-1  \n",
       "3           Cover-1  \n",
       "4           Cover-1  \n",
       "\n",
       "[5 rows x 21 columns]"
      ]
     },
     "execution_count": 41,
     "metadata": {},
     "output_type": "execute_result"
    }
   ],
   "source": [
    "df_main.head()"
   ]
  },
  {
   "cell_type": "markdown",
   "id": "82cd7493",
   "metadata": {},
   "source": [
    "This data set is now ready for the exploratory data analysis phase. I have dealt with missing values, consolidated the required for my analysis, and checked it's quality."
   ]
  },
  {
   "cell_type": "code",
   "execution_count": null,
   "id": "b081b3ac",
   "metadata": {},
   "outputs": [],
   "source": [
    "df_main.to_csv('Data/cleaned_data', index=False)"
   ]
  }
 ],
 "metadata": {
  "kernelspec": {
   "display_name": "Python 3 (ipykernel)",
   "language": "python",
   "name": "python3"
  },
  "language_info": {
   "codemirror_mode": {
    "name": "ipython",
    "version": 3
   },
   "file_extension": ".py",
   "mimetype": "text/x-python",
   "name": "python",
   "nbconvert_exporter": "python",
   "pygments_lexer": "ipython3",
   "version": "3.9.12"
  }
 },
 "nbformat": 4,
 "nbformat_minor": 5
}
